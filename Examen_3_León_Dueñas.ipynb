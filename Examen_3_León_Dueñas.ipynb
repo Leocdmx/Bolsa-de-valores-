{
 "cells": [
  {
   "cell_type": "code",
   "execution_count": 1,
   "metadata": {},
   "outputs": [],
   "source": [
    "#Colocamos la ruta del archivo\n",
    "path='/Users/Leon/Documents/Data GH/Bolsa con ia/Examen 3/01_Datos Iniciales.txt'"
   ]
  },
  {
   "cell_type": "code",
   "execution_count": 2,
   "metadata": {},
   "outputs": [],
   "source": [
    "#Leemos el archivo\n",
    "import pandas as pd\n",
    "df = pd.read_csv(path, sep=\"\\t\",header=None)  \n",
    "\n",
    "#Separamos las variables independientes y dependientes\n",
    "X = df.iloc[:, :-1].values\n",
    "y = df.iloc[:, -1].values.reshape(-1, 1)"
   ]
  },
  {
   "cell_type": "code",
   "execution_count": 3,
   "metadata": {},
   "outputs": [],
   "source": [
    "#Reescalamos las variables entre 0 y 1\n",
    "from sklearn.preprocessing import MinMaxScaler\n",
    "\n",
    "scaler_X = MinMaxScaler()\n",
    "scaler_y = MinMaxScaler()\n",
    "\n",
    "X_scaled = scaler_X.fit_transform(X)\n",
    "y_scaled = scaler_y.fit_transform(y).flatten()"
   ]
  },
  {
   "cell_type": "code",
   "execution_count": 4,
   "metadata": {},
   "outputs": [],
   "source": [
    "# Separamos los datos en entrenamiento y prueba\n",
    "\n",
    "\n",
    "from sklearn.model_selection import train_test_split\n",
    "X_train, X_test, y_train, y_test = train_test_split(X_scaled, y_scaled, test_size=0.3, random_state=42)"
   ]
  },
  {
   "cell_type": "code",
   "execution_count": 5,
   "metadata": {},
   "outputs": [],
   "source": [
    "#Gneramos la funcion de evaluación del polinomio\n",
    "\n",
    "import numpy as np\n",
    "\n",
    "def evaluar_polinomio(individuo, X):\n",
    "    n_variables = X.shape[1]\n",
    "    n_terminos = len(individuo) // (X.shape[1] + 1)\n",
    "\n",
    "    y_pred = np.zeros(X.shape[0])\n",
    "\n",
    "    for i in range(n_terminos):\n",
    "        coef = individuo[i * (n_variables + 1)]\n",
    "        exps = individuo[i * (n_variables + 1) + 1 : (i + 1) * (n_variables + 1)]\n",
    "        y_pred += coef * np.prod(X ** exps, axis=1)\n",
    "    \n",
    "    return y_pred\n"
   ]
  },
  {
   "cell_type": "code",
   "execution_count": 6,
   "metadata": {},
   "outputs": [],
   "source": [
    "#Calculo del error cuadrático medio\n",
    "\n",
    "import numpy as np\n",
    "\n",
    "def generar_individuo(n_variables, n_terminos):\n",
    "    individuo = []\n",
    "    for _ in range(n_terminos):\n",
    "        coef = np.random.uniform(-10, 10)\n",
    "        exponentes = np.random.randint(0, 4, size=n_variables)  # Exponentes entre 0 y 3\n",
    "        individuo.extend([coef] + list(exponentes))\n",
    "    return np.array(individuo)\n",
    "\n",
    "def generar_poblacion(tamano, n_variables, n_terminos):\n",
    "    return [generar_individuo(n_variables, n_terminos) for _ in range(tamano)]\n"
   ]
  },
  {
   "cell_type": "code",
   "execution_count": 7,
   "metadata": {},
   "outputs": [],
   "source": [
    "from sklearn.metrics import mean_squared_error\n",
    "\n",
    "def evaluar_fitness(individuo, X, y):\n",
    "    y_pred = evaluar_polinomio(individuo, X)\n",
    "    if np.any(np.isnan(y_pred)) or np.any(np.isinf(y_pred)):\n",
    "        return 1e10\n",
    "    return np.max(np.abs(y - y_pred))  # minimax\n"
   ]
  },
  {
   "cell_type": "code",
   "execution_count": 8,
   "metadata": {},
   "outputs": [],
   "source": [
    "def seleccion(poblacion, puntajes, k=5):\n",
    "    indices = np.argsort(puntajes)[:k]\n",
    "    return [poblacion[i] for i in indices]\n",
    "\n",
    "def cruce(padre1, padre2):\n",
    "    punto = np.random.randint(1, len(padre1)-1)\n",
    "    return np.concatenate([padre1[:punto], padre2[punto:]])\n",
    "\n",
    "def mutacion(individuo, tasa=0.1):\n",
    "    nuevo = individuo.copy()\n",
    "    for i in range(len(nuevo)):\n",
    "        if np.random.rand() < tasa:\n",
    "            nuevo[i] += np.random.normal(scale=1.0)\n",
    "    # Limitar coeficientes y exponentes\n",
    "    nuevo = np.clip(nuevo, -20, 20)\n",
    "\n",
    "    # Redondear exponentes si corresponde\n",
    "    for i in range(0, len(nuevo), X.shape[1] + 1):\n",
    "        nuevo[i+1:i+1+X.shape[1]] = np.clip(np.round(nuevo[i+1:i+1+X.shape[1]]), 0, 5)\n",
    "\n",
    "    return nuevo\n",
    "\n"
   ]
  },
  {
   "cell_type": "code",
   "execution_count": 9,
   "metadata": {},
   "outputs": [],
   "source": [
    "def ascenso_rapido(individuo, X, y, lr=0.01, pasos=10):\n",
    "    nuevo = individuo.copy()\n",
    "    for _ in range(pasos):\n",
    "        grad = np.zeros_like(nuevo)\n",
    "        f_actual = evaluar_fitness(nuevo, X, y)\n",
    "        for i in range(len(nuevo)):\n",
    "            pert = nuevo.copy()\n",
    "            pert[i] += 1e-5\n",
    "            grad[i] = (evaluar_fitness(pert, X, y) - f_actual) / 1e-5\n",
    "        nuevo -= lr * grad\n",
    "        nuevo = np.clip(nuevo, -20, 20)  # Evitar valores extremos\n",
    "    return nuevo\n",
    "\n",
    "def algoritmo_genetico(X, y, generaciones=200, tamano_poblacion=100, n_terminos=10):\n",
    "    poblacion = generar_poblacion(tamano_poblacion, X.shape[1], n_terminos)\n",
    "\n",
    "    for gen in range(generaciones):\n",
    "        puntajes = [evaluar_fitness(ind, X, y) for ind in poblacion]\n",
    "        elites = seleccion(poblacion, puntajes, k=5)\n",
    "        nueva_poblacion = elites.copy()\n",
    "\n",
    "        while len(nueva_poblacion) < tamano_poblacion:\n",
    "            padres = random.sample(elites, 2)\n",
    "            hijo = cruce(padres[0], padres[1])\n",
    "            hijo = mutacion(hijo, tasa=0.05)\n",
    "            hijo = ascenso_rapido(hijo, X, y)\n",
    "            nueva_poblacion.append(hijo)\n",
    "\n",
    "        poblacion = nueva_poblacion\n",
    "\n",
    "    puntajes_finales = [evaluar_fitness(ind, X, y) for ind in poblacion]\n",
    "    mejor = poblacion[np.argmin(puntajes_finales)]\n",
    "    return mejor\n"
   ]
  },
  {
   "cell_type": "code",
   "execution_count": 10,
   "metadata": {},
   "outputs": [],
   "source": [
    "import random\n",
    "def ascenso_rapido(individuo, X, y, lr=0.01, pasos=10):\n",
    "    nuevo = individuo.copy()\n",
    "    for _ in range(pasos):\n",
    "        grad = np.zeros_like(nuevo)\n",
    "        f_actual = evaluar_fitness(nuevo, X, y)\n",
    "        for i in range(len(nuevo)):\n",
    "            pert = nuevo.copy()\n",
    "            pert[i] += 1e-5\n",
    "            grad[i] = (evaluar_fitness(pert, X, y) - f_actual) / 1e-5\n",
    "        nuevo -= lr * grad\n",
    "    return nuevo\n",
    "\n",
    "def algoritmo_genetico(X, y, generaciones=50, tamano_poblacion=30, n_terminos=4):\n",
    "    poblacion = generar_poblacion(tamano_poblacion, X.shape[1], n_terminos)\n",
    "\n",
    "    for gen in range(generaciones):\n",
    "        puntajes = [evaluar_fitness(ind, X, y) for ind in poblacion]\n",
    "        elites = seleccion(poblacion, puntajes, k=5)\n",
    "        nueva_poblacion = elites.copy()\n",
    "\n",
    "        while len(nueva_poblacion) < tamano_poblacion:\n",
    "            \n",
    "            padres = random.sample(elites, 2)\n",
    "            hijo = cruce(padres[0], padres[1])\n",
    "            hijo = mutacion(hijo, tasa=0.05)\n",
    "            hijo = ascenso_rapido(hijo, X, y)\n",
    "            nueva_poblacion.append(hijo)\n",
    "\n",
    "        poblacion = nueva_poblacion\n",
    "\n",
    "    puntajes_finales = [evaluar_fitness(ind, X, y) for ind in poblacion]\n",
    "    mejor = poblacion[np.argmin(puntajes_finales)]\n",
    "    return mejor\n"
   ]
  },
  {
   "cell_type": "code",
   "execution_count": 11,
   "metadata": {},
   "outputs": [
    {
     "name": "stderr",
     "output_type": "stream",
     "text": [
      "/var/folders/ws/k51gpgfj3j534tm409vzs1q80000gp/T/ipykernel_4561/1003298522.py:14: RuntimeWarning: divide by zero encountered in power\n",
      "  y_pred += coef * np.prod(X ** exps, axis=1)\n",
      "/Users/Leon/Library/Python/3.9/lib/python/site-packages/numpy/core/fromnumeric.py:88: RuntimeWarning: invalid value encountered in reduce\n",
      "  return ufunc.reduce(obj, axis, dtype, out, **passkwargs)\n",
      "/var/folders/ws/k51gpgfj3j534tm409vzs1q80000gp/T/ipykernel_4561/1003298522.py:14: RuntimeWarning: invalid value encountered in add\n",
      "  y_pred += coef * np.prod(X ** exps, axis=1)\n"
     ]
    },
    {
     "name": "stdout",
     "output_type": "stream",
     "text": [
      "Individuo final (coeficientes y exponentes):\n",
      "[ 1.66315710e+00  9.38319747e-05  3.91817282e-04  3.00023933e+00\n",
      "  1.02164417e+00  3.56125540e-03  1.09644078e+00  2.00000695e+00\n",
      "  2.00002900e+00  4.00001771e+00  5.00147515e+00  2.00025914e+00\n",
      " -3.94686053e+00  9.99818826e-01  1.99924371e+00  4.99953798e+00\n",
      "  9.58703877e-01  1.99314277e+00  3.57565156e+00  9.99591304e-01\n",
      "  3.00121817e+00  2.37193696e-05  1.41835368e-01  2.01361985e+00]\n",
      "Error cuadrático medio en prueba: 0.23167681463445577\n"
     ]
    }
   ],
   "source": [
    "mejor_individuo = algoritmo_genetico(X_train, y_train, generaciones=50)\n",
    "\n",
    "# Mostrar ecuación final\n",
    "print(\"Individuo final (coeficientes y exponentes):\")\n",
    "print(mejor_individuo)\n",
    "\n",
    "# Evaluación en prueba\n",
    "y_pred = evaluar_polinomio(mejor_individuo, X_test)\n",
    "error = mean_squared_error(y_test, y_pred)\n",
    "print(\"Error cuadrático medio en prueba:\", error)\n"
   ]
  },
  {
   "cell_type": "code",
   "execution_count": 12,
   "metadata": {},
   "outputs": [],
   "source": [
    "# Si se requiere interpretación con valores originales\n",
    "y_pred_original = scaler_y.inverse_transform(y_pred.reshape(-1, 1))\n",
    "y_test_original = scaler_y.inverse_transform(y_test.reshape(-1, 1))\n"
   ]
  },
  {
   "cell_type": "code",
   "execution_count": 13,
   "metadata": {},
   "outputs": [
    {
     "data": {
      "image/png": "[encoded data removed]",
      "text/plain": [
       "<Figure size 800x600 with 1 Axes>"
      ]
     },
     "metadata": {},
     "output_type": "display_data"
    }
   ],
   "source": [
    "import matplotlib.pyplot as plt\n",
    "\n",
    "# Si usaste scaler_y para escalar y, deshazlo aquí:\n",
    "y_test_pred = evaluar_polinomio(mejor_individuo, X_test)\n",
    "y_test_real = y_test\n",
    "\n",
    "# Desescalar si es necesario:\n",
    "if 'scaler_y' in globals():\n",
    "    y_test_pred = scaler_y.inverse_transform(y_test_pred.reshape(-1, 1)).flatten()\n",
    "    y_test_real = scaler_y.inverse_transform(y_test_real.reshape(-1, 1)).flatten()\n",
    "\n",
    "# Gráfica\n",
    "plt.figure(figsize=(8, 6))\n",
    "plt.scatter(y_test_real, y_test_pred, alpha=0.7, edgecolors='k')\n",
    "plt.plot([min(y_test_real), max(y_test_real)], [min(y_test_real), max(y_test_real)], 'r--')\n",
    "plt.xlabel(\"Valor real\")\n",
    "plt.ylabel(\"Valor predicho\")\n",
    "plt.title(\"Comparación entre valores reales y predichos\")\n",
    "plt.grid(True)\n",
    "plt.tight_layout()\n",
    "plt.show()\n"
   ]
  }
 ],
 "metadata": {
  "kernelspec": {
   "display_name": "Python 3",
   "language": "python",
   "name": "python3"
  },
  "language_info": {
   "codemirror_mode": {
    "name": "ipython",
    "version": 3
   },
   "file_extension": ".py",
   "mimetype": "text/x-python",
   "name": "python",
   "nbconvert_exporter": "python",
   "pygments_lexer": "ipython3",
   "version": "3.9.6"
  }
 },
 "nbformat": 4,
 "nbformat_minor": 2
}
