{
 "cells": [
  {
   "cell_type": "code",
   "execution_count": null,
   "metadata": {},
   "outputs": [],
   "source": [
    "#Colocamos la ruta del archivo\n",
    "path='/Users/Leon/Documents/Data GH/Bolsa con ia/Examen 3/01_Datos Iniciales.txt'"
   ]
  },
  {
   "cell_type": "code",
   "execution_count": null,
   "metadata": {},
   "outputs": [],
   "source": [
    "#Leemos el archivo\n",
    "import pandas as pd\n",
    "df = pd.read_csv(path, sep=\"\\t\",header=None)  \n",
    "\n",
    "#Separamos las variables independientes y dependientes\n",
    "X = df.iloc[:, :-1].values\n",
    "y = df.iloc[:, -1].values.reshape(-1, 1)"
   ]
  },
  {
   "cell_type": "code",
   "execution_count": 14,
   "metadata": {},
   "outputs": [],
   "source": [
    "#Reescalamos las variables entre 0 y 1\n",
    "from sklearn.preprocessing import MinMaxScaler\n",
    "\n",
    "scaler_X = MinMaxScaler()\n",
    "scaler_y = MinMaxScaler()\n",
    "\n",
    "X_scaled = scaler_X.fit_transform(X)\n",
    "y_scaled = scaler_y.fit_transform(y).flatten()"
   ]
  },
  {
   "cell_type": "code",
   "execution_count": 20,
   "metadata": {},
   "outputs": [],
   "source": [
    "# Separamos los datos en entrenamiento y prueba\n",
    "\n",
    "\n",
    "from sklearn.model_selection import train_test_split\n",
    "X_train, X_test, y_train, y_test = train_test_split(X_scaled, y_scaled, test_size=0.3, random_state=42)"
   ]
  },
  {
   "cell_type": "code",
   "execution_count": null,
   "metadata": {},
   "outputs": [],
   "source": [
    "#Gneramos la funcion de evaluación del polinomio\n",
    "\n",
    "import numpy as np\n",
    "\n",
    "def evaluar_polinomio(individuo, X):\n",
    "\n",
    "    # Extraer coeficientes (uno cada 6 elementos)\n",
    "    coeficientes = individuo[::6]\n",
    "    \n",
    "    # Extraer listas de exponentes para cada variable\n",
    "    exponentes_por_variable = [individuo[i::6] for i in range(1, 6)]\n",
    "    \n",
    "    # Agrupar exponentes por término\n",
    "    exponentes_por_termino = zip(*exponentes_por_variable)\n",
    "\n",
    "    # Calcular el valor del polinomio evaluado en cada muestra\n",
    "    resultado = sum([\n",
    "        coef * np.prod(X ** np.array(exponentes), axis=1)\n",
    "        for coef, exponentes in zip(coeficientes, exponentes_por_termino)\n",
    "    ])\n",
    "    \n",
    "    return resultado\n"
   ]
  },
  {
   "cell_type": "code",
   "execution_count": 24,
   "metadata": {},
   "outputs": [],
   "source": [
    "#Calculo del error cuadrático medio\n",
    "from sklearn.metrics import mean_squared_error\n",
    "\n",
    "def evaluar_individuo(individuo):\n",
    "\n",
    "    predicciones = evaluar_polinomio(individuo, X_train)\n",
    "    error_mse = mean_squared_error(y_train, predicciones)\n",
    "    return error_mse,\n"
   ]
  },
  {
   "cell_type": "code",
   "execution_count": null,
   "metadata": {},
   "outputs": [],
   "source": []
  }
 ],
 "metadata": {
  "kernelspec": {
   "display_name": "Python 3",
   "language": "python",
   "name": "python3"
  },
  "language_info": {
   "codemirror_mode": {
    "name": "ipython",
    "version": 3
   },
   "file_extension": ".py",
   "mimetype": "text/x-python",
   "name": "python",
   "nbconvert_exporter": "python",
   "pygments_lexer": "ipython3",
   "version": "3.9.6"
  }
 },
 "nbformat": 4,
 "nbformat_minor": 2
}
