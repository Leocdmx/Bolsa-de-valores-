{
 "cells": [
  {
   "cell_type": "code",
   "execution_count": 5,
   "metadata": {},
   "outputs": [
    {
     "name": "stdout",
     "output_type": "stream",
     "text": [
      "Gen 0, best fitness: 0.149274, best: [-0.2400069762397239, 1.2284753016347283, 1.3944310087586071]\n",
      "Gen 50, best fitness: 0.000160, best: [-0.028652741517828244, 1.2594672521483266, 1.4051967003001704]\n",
      "Gen 100, best fitness: 0.000145, best: [-0.02705869015903489, 1.2608262576579055, 1.4064015085843826]\n",
      "Gen 150, best fitness: 0.000123, best: [-0.026044257664863436, 1.2614178778273488, 1.4052172146070903]\n",
      "Gen 200, best fitness: 0.000101, best: [-0.026387464694780614, 1.263385602505217, 1.405596005565914]\n",
      "Gen 250, best fitness: 0.000088, best: [-0.027090399396170754, 1.262837495007652, 1.4053893959843082]\n",
      "Gen 300, best fitness: 0.000073, best: [-0.027378266309967873, 1.2623722809819946, 1.4039788917474594]\n",
      "Gen 350, best fitness: 0.000066, best: [-0.027578338504078634, 1.2625531201462667, 1.4040462523425004]\n",
      "Gen 400, best fitness: 0.000058, best: [-0.027901051472532967, 1.2626968495820192, 1.403841026066762]\n",
      "Gen 450, best fitness: 0.000050, best: [-0.02825166754299329, 1.2628253177362152, 1.4036569218319248]\n",
      "Gen 500, best fitness: 0.000043, best: [-0.029155573295315335, 1.262917415553626, 1.4039244040013152]\n",
      "Gen 550, best fitness: 0.000038, best: [-0.02902730090497951, 1.263006278414614, 1.403561940518681]\n",
      "Gen 600, best fitness: 0.000034, best: [-0.029109962198168048, 1.263090930965602, 1.4030784098830384]\n",
      "Gen 650, best fitness: 0.000029, best: [-0.02930056319378131, 1.2632497132540257, 1.4028936117370097]\n",
      "Gen 700, best fitness: 0.000027, best: [-0.029438075360977457, 1.263335636067801, 1.4028443859878266]\n",
      "Gen 750, best fitness: 0.000024, best: [-0.029576732958025657, 1.2634317826546377, 1.4026183385687219]\n",
      "Gen 800, best fitness: 0.000021, best: [-0.03041037923488809, 1.2634596259853774, 1.4029816026700832]\n",
      "Gen 850, best fitness: 0.000019, best: [-0.02996509624869846, 1.2635538701113165, 1.4025517959834564]\n",
      "Gen 900, best fitness: 0.000017, best: [-0.030638178921181522, 1.263632546255281, 1.4027453145672009]\n",
      "Gen 950, best fitness: 0.000016, best: [-0.03065271913881721, 1.2637052053741118, 1.402661497625254]\n",
      "Gen 999, best fitness: 0.000016, best: [-0.030868635474855584, 1.2637431662058005, 1.4026638072780953]\n",
      "\n",
      "Mejor solución encontrada: [-0.030868635474855584, 1.2637431662058005, 1.4026638072780953]\n",
      "Error cuadrático total: 0.00001563\n"
     ]
    }
   ],
   "source": [
    "import random\n",
    "import math\n",
    "\n",
    "# Configuración del algoritmo\n",
    "POP_SIZE = 5000\n",
    "GENERATIONS = 1000\n",
    "MUTATION_RATE = 0.05\n",
    "CROSSOVER_RATE = 1.0\n",
    "VARIABLES = 3\n",
    "BOUNDS = [(-10, 10)] * VARIABLES\n",
    "\n",
    "# Función para evaluar el sistema de ecuaciones\n",
    "def fitness(ind):\n",
    "    x, y, z = ind\n",
    "    f1 = 3 * x**2 + math.sin(x * y) - z**2 + 2\n",
    "    f2 = 2 * x**3 - y**2 - z + 3\n",
    "    f3 = math.sin(2 * x) + math.cos(y * z) + y - 1\n",
    "    return f1**2 + f2**2 + f3**2  # suma de errores al cuadrado\n",
    "\n",
    "# Inicializar población\n",
    "def init_population():\n",
    "    return [[random.uniform(*BOUNDS[i]) for i in range(VARIABLES)] for _ in range(POP_SIZE)]\n",
    "\n",
    "# Selección por torneo\n",
    "def tournament_selection(pop, k=3):\n",
    "    return min(random.sample(pop, k), key=fitness)\n",
    "\n",
    "# Cruza por promedio\n",
    "def crossover(p1, p2):\n",
    "    return [(a + b) / 2 for a, b in zip(p1, p2)]\n",
    "\n",
    "# Mutación gaussiana\n",
    "def mutate(ind):\n",
    "    return [x + random.gauss(0, 1) if random.random() < MUTATION_RATE else x for x in ind]\n",
    "\n",
    "# EGA principal\n",
    "def run_ga():\n",
    "    population = init_population()\n",
    "    best = min(population, key=fitness)\n",
    "\n",
    "    for gen in range(GENERATIONS):\n",
    "        new_population = []\n",
    "        while len(new_population) < POP_SIZE:\n",
    "            parent1 = tournament_selection(population)\n",
    "            parent2 = tournament_selection(population)\n",
    "            if random.random() < CROSSOVER_RATE:\n",
    "                child = crossover(parent1, parent2)\n",
    "            else:\n",
    "                child = parent1[:]\n",
    "            child = mutate(child)\n",
    "            new_population.append(child)\n",
    "        population = new_population\n",
    "        candidate = min(population, key=fitness)\n",
    "        if fitness(candidate) < fitness(best):\n",
    "            best = candidate\n",
    "        if gen % 50 == 0 or gen == GENERATIONS - 1:\n",
    "            print(f\"Gen {gen}, best fitness: {fitness(best):.6f}, best: {best}\")\n",
    "    \n",
    "    return best, fitness(best)\n",
    "\n",
    "# Ejecutar\n",
    "solucion, error = run_ga()\n",
    "print(f\"\\nMejor solución encontrada: {solucion}\")\n",
    "print(f\"Error cuadrático total: {error:.8f}\")\n"
   ]
  },
  {
   "cell_type": "code",
   "execution_count": 6,
   "metadata": {},
   "outputs": [
    {
     "name": "stdout",
     "output_type": "stream",
     "text": [
      "Ecuación 1: -0.695930 ≈ -2 → error = 1.304070e+00\n",
      "Ecuación 2: -3.576432 ≈ -3 → error = -5.764323e-01\n",
      "Ecuación 3: 0.154679 ≈ +1 → error = -8.453210e-01\n"
     ]
    }
   ],
   "source": [
    "import math\n",
    "\n",
    "# Valores dados\n",
    "x = -0.823752\n",
    "y = 1.024615\n",
    "z = 1.408654\n",
    "\n",
    "# Evaluamos cada ecuación\n",
    "eq1 = 3 * x**2 + math.sin(x * y) - z**2\n",
    "eq2 = 2 * x**3 - y**2 - z\n",
    "eq3 = math.sin(2 * x) + math.cos(y * z) + y\n",
    "\n",
    "# Mostrar resultados\n",
    "print(f\"Ecuación 1: {eq1:.6f} ≈ -2 → error = {eq1 + 2:.6e}\")\n",
    "print(f\"Ecuación 2: {eq2:.6f} ≈ -3 → error = {eq2 + 3:.6e}\")\n",
    "print(f\"Ecuación 3: {eq3:.6f} ≈ +1 → error = {eq3 - 1:.6e}\")\n",
    "\n"
   ]
  },
  {
   "cell_type": "code",
   "execution_count": 7,
   "metadata": {},
   "outputs": [
    {
     "name": "stdout",
     "output_type": "stream",
     "text": [
      "Ecuación 1: -2.003607 ≈ -2 → error = -3.607272e-03\n",
      "Ecuación 2: -2.999769 ≈ -3 → error = 2.305748e-04\n",
      "Ecuación 3: 1.001602 ≈ +1 → error = 1.601717e-03\n"
     ]
    }
   ],
   "source": [
    "import math\n",
    "\n",
    "# Valores de la mejor solución\n",
    "x = -0.030868635474855584\n",
    "y = 1.2637431662058005\n",
    "z = 1.4026638072780953\n",
    "\n",
    "# Ecuaciones evaluadas\n",
    "eq1 = 3 * x**2 + math.sin(x * y) - z**2\n",
    "eq2 = 2 * x**3 - y**2 - z\n",
    "eq3 = math.sin(2 * x) + math.cos(y * z) + y\n",
    "\n",
    "# Mostrar resultados\n",
    "print(f\"Ecuación 1: {eq1:.6f} ≈ -2 → error = {eq1 + 2:.6e}\")\n",
    "print(f\"Ecuación 2: {eq2:.6f} ≈ -3 → error = {eq2 + 3:.6e}\")\n",
    "print(f\"Ecuación 3: {eq3:.6f} ≈ +1 → error = {eq3 - 1:.6e}\")\n"
   ]
  }
 ],
 "metadata": {
  "kernelspec": {
   "display_name": "Python 3",
   "language": "python",
   "name": "python3"
  },
  "language_info": {
   "codemirror_mode": {
    "name": "ipython",
    "version": 3
   },
   "file_extension": ".py",
   "mimetype": "text/x-python",
   "name": "python",
   "nbconvert_exporter": "python",
   "pygments_lexer": "ipython3",
   "version": "3.9.6"
  }
 },
 "nbformat": 4,
 "nbformat_minor": 2
}
